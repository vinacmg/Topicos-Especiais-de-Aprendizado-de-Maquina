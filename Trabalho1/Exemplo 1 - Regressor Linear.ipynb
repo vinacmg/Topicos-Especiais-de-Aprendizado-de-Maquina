{
 "cells": [
  {
   "cell_type": "markdown",
   "id": "5367a0b0",
   "metadata": {},
   "source": [
    "# Regressor Linear"
   ]
  },
  {
   "cell_type": "markdown",
   "id": "4b7ae5c9",
   "metadata": {},
   "source": [
    "Este é um exemplo de como utilizar um modelo de regressão linear simples treinado via SGD (Stochastic Gradient Descent ou Gradiente Descendente Estocástico)."
   ]
  },
  {
   "cell_type": "markdown",
   "id": "69004a50",
   "metadata": {},
   "source": [
    "Neste exemplo, utilizaremos parte de uma base de dados de vinhos discriminados segundo sua qualidade. A ideia é, então, treinar um regressor para predizer a qualidade do vinho com base nas características este possui.\n",
    "Os dados em formato csv podem ser encontrados na plataforma UCI - Machine Learning <https://archive.ics.uci.edu/ml/datasets/wine+quality>, onde mais detalhes podem ser obtidos e os dados podem ser baixados diretamente."
   ]
  },
  {
   "cell_type": "markdown",
   "id": "8a44ade8",
   "metadata": {},
   "source": [
    "Utilizamos a biblioteca pandas para baixar e abrir o arquivo, que nesse caso usa \";\" como seperador."
   ]
  },
  {
   "cell_type": "code",
   "execution_count": 1,
   "id": "a56e3856",
   "metadata": {},
   "outputs": [],
   "source": [
    "import pandas as pd\n",
    "\n",
    "wine = pd.read_csv('https://archive.ics.uci.edu/ml/machine-learning-databases/wine-quality/winequality-red.csv', sep=';')"
   ]
  },
  {
   "cell_type": "markdown",
   "id": "e656cc3a",
   "metadata": {},
   "source": [
    "As linhas representam amostras de vinhos, 11 características físico-químicas e qualidade respectivas."
   ]
  },
  {
   "cell_type": "code",
   "execution_count": 2,
   "id": "b96388ad",
   "metadata": {},
   "outputs": [
    {
     "data": {
      "text/html": [
       "<div>\n",
       "<style scoped>\n",
       "    .dataframe tbody tr th:only-of-type {\n",
       "        vertical-align: middle;\n",
       "    }\n",
       "\n",
       "    .dataframe tbody tr th {\n",
       "        vertical-align: top;\n",
       "    }\n",
       "\n",
       "    .dataframe thead th {\n",
       "        text-align: right;\n",
       "    }\n",
       "</style>\n",
       "<table border=\"1\" class=\"dataframe\">\n",
       "  <thead>\n",
       "    <tr style=\"text-align: right;\">\n",
       "      <th></th>\n",
       "      <th>fixed acidity</th>\n",
       "      <th>volatile acidity</th>\n",
       "      <th>citric acid</th>\n",
       "      <th>residual sugar</th>\n",
       "      <th>chlorides</th>\n",
       "      <th>free sulfur dioxide</th>\n",
       "      <th>total sulfur dioxide</th>\n",
       "      <th>density</th>\n",
       "      <th>pH</th>\n",
       "      <th>sulphates</th>\n",
       "      <th>alcohol</th>\n",
       "      <th>quality</th>\n",
       "    </tr>\n",
       "  </thead>\n",
       "  <tbody>\n",
       "    <tr>\n",
       "      <th>0</th>\n",
       "      <td>7.4</td>\n",
       "      <td>0.70</td>\n",
       "      <td>0.00</td>\n",
       "      <td>1.9</td>\n",
       "      <td>0.076</td>\n",
       "      <td>11.0</td>\n",
       "      <td>34.0</td>\n",
       "      <td>0.9978</td>\n",
       "      <td>3.51</td>\n",
       "      <td>0.56</td>\n",
       "      <td>9.4</td>\n",
       "      <td>5</td>\n",
       "    </tr>\n",
       "    <tr>\n",
       "      <th>1</th>\n",
       "      <td>7.8</td>\n",
       "      <td>0.88</td>\n",
       "      <td>0.00</td>\n",
       "      <td>2.6</td>\n",
       "      <td>0.098</td>\n",
       "      <td>25.0</td>\n",
       "      <td>67.0</td>\n",
       "      <td>0.9968</td>\n",
       "      <td>3.20</td>\n",
       "      <td>0.68</td>\n",
       "      <td>9.8</td>\n",
       "      <td>5</td>\n",
       "    </tr>\n",
       "    <tr>\n",
       "      <th>2</th>\n",
       "      <td>7.8</td>\n",
       "      <td>0.76</td>\n",
       "      <td>0.04</td>\n",
       "      <td>2.3</td>\n",
       "      <td>0.092</td>\n",
       "      <td>15.0</td>\n",
       "      <td>54.0</td>\n",
       "      <td>0.9970</td>\n",
       "      <td>3.26</td>\n",
       "      <td>0.65</td>\n",
       "      <td>9.8</td>\n",
       "      <td>5</td>\n",
       "    </tr>\n",
       "    <tr>\n",
       "      <th>3</th>\n",
       "      <td>11.2</td>\n",
       "      <td>0.28</td>\n",
       "      <td>0.56</td>\n",
       "      <td>1.9</td>\n",
       "      <td>0.075</td>\n",
       "      <td>17.0</td>\n",
       "      <td>60.0</td>\n",
       "      <td>0.9980</td>\n",
       "      <td>3.16</td>\n",
       "      <td>0.58</td>\n",
       "      <td>9.8</td>\n",
       "      <td>6</td>\n",
       "    </tr>\n",
       "    <tr>\n",
       "      <th>4</th>\n",
       "      <td>7.4</td>\n",
       "      <td>0.70</td>\n",
       "      <td>0.00</td>\n",
       "      <td>1.9</td>\n",
       "      <td>0.076</td>\n",
       "      <td>11.0</td>\n",
       "      <td>34.0</td>\n",
       "      <td>0.9978</td>\n",
       "      <td>3.51</td>\n",
       "      <td>0.56</td>\n",
       "      <td>9.4</td>\n",
       "      <td>5</td>\n",
       "    </tr>\n",
       "  </tbody>\n",
       "</table>\n",
       "</div>"
      ],
      "text/plain": [
       "   fixed acidity  volatile acidity  citric acid  residual sugar  chlorides  \\\n",
       "0            7.4              0.70         0.00             1.9      0.076   \n",
       "1            7.8              0.88         0.00             2.6      0.098   \n",
       "2            7.8              0.76         0.04             2.3      0.092   \n",
       "3           11.2              0.28         0.56             1.9      0.075   \n",
       "4            7.4              0.70         0.00             1.9      0.076   \n",
       "\n",
       "   free sulfur dioxide  total sulfur dioxide  density    pH  sulphates  \\\n",
       "0                 11.0                  34.0   0.9978  3.51       0.56   \n",
       "1                 25.0                  67.0   0.9968  3.20       0.68   \n",
       "2                 15.0                  54.0   0.9970  3.26       0.65   \n",
       "3                 17.0                  60.0   0.9980  3.16       0.58   \n",
       "4                 11.0                  34.0   0.9978  3.51       0.56   \n",
       "\n",
       "   alcohol  quality  \n",
       "0      9.4        5  \n",
       "1      9.8        5  \n",
       "2      9.8        5  \n",
       "3      9.8        6  \n",
       "4      9.4        5  "
      ]
     },
     "execution_count": 2,
     "metadata": {},
     "output_type": "execute_result"
    }
   ],
   "source": [
    "wine.head()"
   ]
  },
  {
   "cell_type": "markdown",
   "id": "c0d90a76",
   "metadata": {},
   "source": [
    "Assim, separamos os dados em X (vetores de entrada do modelo) e y (qualidade do vinho que gostaríamos de ajustar via regressão linear)"
   ]
  },
  {
   "cell_type": "code",
   "execution_count": 3,
   "id": "d7d99a52",
   "metadata": {},
   "outputs": [],
   "source": [
    "X = wine.drop('quality',axis=1)\n",
    "y = wine['quality']"
   ]
  },
  {
   "cell_type": "markdown",
   "id": "9f0a5ad5",
   "metadata": {},
   "source": [
    "A biblioteca Scikit-Learn (ou sklearn <https://scikit-learn.org/stable/index.html>) aceita como entrada diferentes tipos de dados. Em geral, quaisquer métodos aceitam como entrada listas, arrays numpy e dataframes pandas. Para mais detalhes, lembre-se de verificar a documentação do método de interesse."
   ]
  },
  {
   "cell_type": "markdown",
   "id": "8a33f8d2",
   "metadata": {},
   "source": [
    "Utilizamos o helper train_test_split para separar os dados em conjunto de treinamento (sobre os quais o modelo vai efetivamente treinar) e conjunto de teste (que será utilizado para avaliar a qualidade do modelo) na proporção 80%-20%."
   ]
  },
  {
   "cell_type": "code",
   "execution_count": 4,
   "id": "35c836e9",
   "metadata": {},
   "outputs": [],
   "source": [
    "from sklearn.model_selection import train_test_split\n",
    "\n",
    "X_train, X_test, y_train, y_test= train_test_split(X, y, test_size=0.2, random_state=777)"
   ]
  },
  {
   "cell_type": "markdown",
   "id": "b8c0281a",
   "metadata": {},
   "source": [
    "A seguir, padronizamos* os dados afim de facilitar a convergência do modelo utilizando o helper da biblioteca sklearn. \n",
    "\n",
    "*Normalização e padronização podem ser etapas importantes de pré-processamento, a depender dos dados (especialmente quando forem tabulares) e do algoritmo de treinamento. <https://www.analyticsvidhya.com/blog/2020/04/feature-scaling-machine-learning-normalization-standardization/>"
   ]
  },
  {
   "cell_type": "code",
   "execution_count": 5,
   "id": "b592cba4",
   "metadata": {},
   "outputs": [],
   "source": [
    "from sklearn.preprocessing import scale\n",
    "\n",
    "X_train = scale(X_train)\n",
    "y_train = scale(y_train)\n",
    "\n",
    "X_test = scale(X_test)\n",
    "y_test = scale(y_test)"
   ]
  },
  {
   "cell_type": "markdown",
   "id": "d014bb00",
   "metadata": {},
   "source": [
    "Treinamos nosso regressor usando erro quadrático, coeficiente de aprendizado constante e igual a 0.01. \n",
    "\n",
    "Cada atributo da classe SGDRegressor poderá mudar completamente a velocidade e qualidade do aprendizado, portanto recomendo a leitura da documentação e das referências que a mesma mencionar caso decida experimentar outras possibilidades."
   ]
  },
  {
   "cell_type": "code",
   "execution_count": 6,
   "id": "9c27b91d",
   "metadata": {},
   "outputs": [
    {
     "data": {
      "text/plain": [
       "SGDRegressor(learning_rate='constant')"
      ]
     },
     "execution_count": 6,
     "metadata": {},
     "output_type": "execute_result"
    }
   ],
   "source": [
    "from sklearn.linear_model import SGDRegressor\n",
    "\n",
    "regressor = SGDRegressor(loss='squared_error', learning_rate='constant', eta0=0.01, max_iter=1000, tol=1e-3)\n",
    "regressor.fit(X_train, y_train)"
   ]
  },
  {
   "cell_type": "markdown",
   "id": "bff330c5",
   "metadata": {},
   "source": [
    "Por fim geramos predições utilizando o modelo treinado e conjunto de teste e avaliamos a qualidade do modelo. (Aqui, optou-se por usar MAE e MSE como métricas)."
   ]
  },
  {
   "cell_type": "code",
   "execution_count": 7,
   "id": "19046f25",
   "metadata": {},
   "outputs": [],
   "source": [
    "pred = regressor.predict(X_test)"
   ]
  },
  {
   "cell_type": "code",
   "execution_count": 8,
   "id": "c6566010",
   "metadata": {},
   "outputs": [
    {
     "name": "stdout",
     "output_type": "stream",
     "text": [
      "MAE: 0.6876033932758178\n",
      "MSE: 0.7295720014908119\n"
     ]
    }
   ],
   "source": [
    "from sklearn import metrics\n",
    "\n",
    "print('MAE:', metrics.mean_absolute_error(y_test, pred))\n",
    "print('MSE:', metrics.mean_squared_error(y_test, pred))"
   ]
  }
 ],
 "metadata": {
  "kernelspec": {
   "display_name": "Python 3 (ipykernel)",
   "language": "python",
   "name": "python3"
  },
  "language_info": {
   "codemirror_mode": {
    "name": "ipython",
    "version": 3
   },
   "file_extension": ".py",
   "mimetype": "text/x-python",
   "name": "python",
   "nbconvert_exporter": "python",
   "pygments_lexer": "ipython3",
   "version": "3.9.7"
  }
 },
 "nbformat": 4,
 "nbformat_minor": 5
}
